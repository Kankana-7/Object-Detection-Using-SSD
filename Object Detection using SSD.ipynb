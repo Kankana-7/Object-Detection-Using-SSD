{
 "cells": [
  {
   "cell_type": "code",
   "execution_count": 1,
   "id": "45b49586",
   "metadata": {},
   "outputs": [
    {
     "name": "stdout",
     "output_type": "stream",
     "text": [
      "Collecting opencv-python\n",
      "  Downloading opencv_python-4.8.1.78-cp37-abi3-win_amd64.whl (38.1 MB)\n",
      "Requirement already satisfied: numpy in c:\\users\\kankana ghosh\\anaconda3\\lib\\site-packages (1.22.4)Note: you may need to restart the kernel to use updated packages.\n",
      "Collecting imutils\n",
      "  Downloading imutils-0.5.4.tar.gz (17 kB)\n",
      "Building wheels for collected packages: imutils\n",
      "  Building wheel for imutils (setup.py): started\n",
      "  Building wheel for imutils (setup.py): finished with status 'done'\n",
      "  Created wheel for imutils: filename=imutils-0.5.4-py3-none-any.whl size=25872 sha256=ada053dee1925d6cb8f00ccdbea35fc3093695262a090e27c032344b89071f0f\n",
      "  Stored in directory: c:\\users\\kankana ghosh\\appdata\\local\\pip\\cache\\wheels\\4b\\a5\\2d\\4a070a801d3a3d93f033d3ee9728f470f514826e89952df3ea\n",
      "Successfully built imutils\n",
      "\n",
      "Installing collected packages: opencv-python, imutils\n",
      "Successfully installed imutils-0.5.4 opencv-python-4.8.1.78\n"
     ]
    }
   ],
   "source": [
    "pip install opencv-python numpy imutils"
   ]
  },
  {
   "cell_type": "code",
   "execution_count": 1,
   "id": "11380844",
   "metadata": {},
   "outputs": [
    {
     "name": "stdout",
     "output_type": "stream",
     "text": [
      "[INFO] setting preferable backend and target to CUDA...\n",
      "[INFO] accessing video stream...\n",
      "[INFO] elasped time: 40.27\n",
      "[INFO] approx. FPS: 27.81\n"
     ]
    }
   ],
   "source": [
    "from imutils.video import FPS\n",
    "import numpy as np\n",
    "import imutils\n",
    "import cv2\n",
    "\n",
    "\n",
    "use_gpu = True\n",
    "live_video = False\n",
    "confidence_level = 0.5\n",
    "fps = FPS().start()\n",
    "ret = True\n",
    "CLASSES = [\"background\", \"aeroplane\", \"bicycle\", \"bird\", \"boat\",\n",
    "           \"bottle\", \"bus\", \"car\", \"cat\", \"chair\", \"cow\", \"diningtable\",\n",
    "           \"dog\", \"horse\", \"motorbike\", \"person\", \"pottedplant\", \"sheep\",\n",
    "           \"sofa\", \"train\", \"tvmonitor\"]\n",
    "\n",
    "COLORS = np.random.uniform(0, 255, size=(len(CLASSES), 3))\n",
    "\n",
    "net = cv2.dnn.readNetFromCaffe(\"C:/Users/Kankana Ghosh/Desktop/Dataset/Object Detection using SSD/Object Detection using SSD/ssd_files/MobileNetSSD_deploy.prototxt\",\"C:/Users/Kankana Ghosh/Desktop/Dataset/Object Detection using SSD/Object Detection using SSD/ssd_files/MobileNetSSD_deploy.caffemodel\")\n",
    "\n",
    "if use_gpu:\n",
    "    print(\"[INFO] setting preferable backend and target to CUDA...\")\n",
    "    net.setPreferableBackend(cv2.dnn.DNN_BACKEND_CUDA)\n",
    "    net.setPreferableTarget(cv2.dnn.DNN_TARGET_CUDA)\n",
    "\n",
    "\n",
    "print(\"[INFO] accessing video stream...\")\n",
    "if live_video:\n",
    "    vs = cv2.VideoCapture(0)\n",
    "else:\n",
    "    vs = cv2.VideoCapture(\"C:/Users/Kankana Ghosh/Desktop/Dataset/Object Detection using SSD/Object Detection using SSD/test.mp4\")\n",
    "\n",
    "while ret:\n",
    "    ret, frame = vs.read()\n",
    "    if ret:\n",
    "        frame = imutils.resize(frame, width=400)\n",
    "        (h, w) = frame.shape[:2]\n",
    "\n",
    "        blob = cv2.dnn.blobFromImage(frame, 0.007843, (300, 300), 127.5)\n",
    "        net.setInput(blob)\n",
    "        detections = net.forward()\n",
    "\n",
    "        for i in np.arange(0, detections.shape[2]):\n",
    "            confidence = detections[0, 0, i, 2]\n",
    "            if confidence > confidence_level:\n",
    "                idx = int(detections[0, 0, i, 1])\n",
    "                box = detections[0, 0, i, 3:7] * np.array([w, h, w, h])\n",
    "                (startX, startY, endX, endY) = box.astype(\"int\")\n",
    "\n",
    "                label = \"{}: {:.2f}%\".format(CLASSES[idx], confidence * 100)\n",
    "                cv2.rectangle(frame, (startX, startY), (endX, endY), COLORS[idx], 2)\n",
    "\n",
    "                y = startY - 15 if startY - 15 > 15 else startY + 15\n",
    "                cv2.putText(frame, label, (startX, y), cv2.FONT_HERSHEY_SIMPLEX, 0.5, COLORS[idx], 2)\n",
    "                \n",
    "        cv2.imshow('Live detection',frame)\n",
    "\n",
    "        if cv2.waitKey(1)==27:\n",
    "            break\n",
    "\n",
    "        fps.update()\n",
    "\n",
    "fps.stop()\n",
    "\n",
    "print(\"[INFO] elasped time: {:.2f}\".format(fps.elapsed()))\n",
    "print(\"[INFO] approx. FPS: {:.2f}\".format(fps.fps()))"
   ]
  }
 ],
 "metadata": {
  "kernelspec": {
   "display_name": "Python 3 (ipykernel)",
   "language": "python",
   "name": "python3"
  },
  "language_info": {
   "codemirror_mode": {
    "name": "ipython",
    "version": 3
   },
   "file_extension": ".py",
   "mimetype": "text/x-python",
   "name": "python",
   "nbconvert_exporter": "python",
   "pygments_lexer": "ipython3",
   "version": "3.9.12"
  }
 },
 "nbformat": 4,
 "nbformat_minor": 5
}
